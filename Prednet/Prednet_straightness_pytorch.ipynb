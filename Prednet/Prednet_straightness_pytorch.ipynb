{
 "cells": [
  {
   "cell_type": "markdown",
   "id": "9837441a",
   "metadata": {},
   "source": [
    "# Prednet Straightening Evaluation (Pytorch)\n",
    "Using Kitti validation set"
   ]
  },
  {
   "cell_type": "code",
   "execution_count": 1,
   "id": "dff7b2f1",
   "metadata": {},
   "outputs": [],
   "source": [
    "import os\n",
    "import numpy as np\n",
    "from six.moves import cPickle\n",
    "import matplotlib.pyplot as plt\n",
    "\n",
    "import torch\n",
    "import math\n",
    "\n",
    "import sys\n",
    "sys.path.insert(0, '../')\n",
    "sys.path.insert(0, '../../prednet_coxlab/pytorch')\n",
    "\n",
    "\n",
    "os.environ[\"CUDA_VISIBLE_DEVICES\"]=\"2\"\n",
    "\n",
    "from Henaff_straightening.utils import *\n",
    "%load_ext autoreload"
   ]
  },
  {
   "cell_type": "code",
   "execution_count": 5,
   "id": "b75ccf57",
   "metadata": {},
   "outputs": [],
   "source": [
    "# prednet imports\n",
    "import os\n",
    "import numpy as np\n",
    "import argparse\n",
    "import time\n",
    "\n",
    "import torch\n",
    "import torch.nn as nn\n",
    "import torch.nn.functional as F\n",
    "from torch.autograd import Variable\n",
    "from torch.optim import lr_scheduler\n",
    "\n",
    "# zcr lib\n",
    "from prednet_straight import PredNet\n",
    "# from prednet import PredNet\n",
    "from data_utils import ZcrDataLoader"
   ]
  },
  {
   "cell_type": "code",
   "execution_count": 6,
   "id": "aece54b8",
   "metadata": {},
   "outputs": [],
   "source": [
    "\n",
    "DATA_DIR=\"/data/vision/billf/scratch/annekh/prednet_coxlab/kitti_hkl_py3\"\n",
    "checkpoint_savePath='./checkpoint/'\n",
    "data_format='channels_first'\n",
    "n_channels=3\n",
    "img_height=128\n",
    "img_width=160\n",
    "\n",
    "layer_loss_weightsMode='L_0'\n",
    "num_timeSteps=10\n",
    "\n",
    "stack_sizes       = (n_channels, 48, 96, 192)\n",
    "R_stack_sizes     = stack_sizes\n",
    "A_filter_sizes    = (3, 3, 3)\n",
    "Ahat_filter_sizes = (3, 3, 3, 3)\n",
    "R_filter_sizes    = (3, 3, 3, 3)"
   ]
  },
  {
   "cell_type": "code",
   "execution_count": 7,
   "id": "95778ac3",
   "metadata": {},
   "outputs": [],
   "source": [
    "# so I don't have rewrite the dataloader\n",
    "parser = argparse.ArgumentParser()\n",
    "\n",
    "parser.add_argument('--batch_size', default = 83, type = int, metavar = 'N',\n",
    "                    help = 'The size of batch')\n",
    "parser.add_argument('--workers', default = 4, type = int, metavar = 'N',\n",
    "                    help = 'number of data loading workers (default: 4)')\n",
    "parser.add_argument('--data_format', default = data_format, type = str,\n",
    "                    help = '(c, h, w) or (h, w, c)?')\n",
    "parser.add_argument('--num_timeSteps', default = 10, type = int, metavar = 'N',\n",
    "                    help = 'number of timesteps used for sequences in training (default: 10)')\n",
    "parser.add_argument('--shuffle', default = False, type = bool,\n",
    "                    help = 'shuffle or not')\n",
    "\n",
    "args = parser.parse_args('')"
   ]
  },
  {
   "cell_type": "code",
   "execution_count": 8,
   "id": "f495c784",
   "metadata": {},
   "outputs": [],
   "source": [
    "from prednet_straight import PredNet\n",
    "models = []\n",
    "checkpoint_file = '../../prednet_coxlab/pytorch/checkpoint/checkpoint_straight_4_epochs_larger.pt'\n",
    "# checkpoint_file = '../../prednet_coxlab/pytorch/checkpoint/checkpoint_baseline2.pt'\n",
    "checkpoint = torch.load(checkpoint_file)\n",
    "for i in reversed(range(5)):\n",
    "    if i !=4:\n",
    "        prednet = PredNet(stack_sizes, R_stack_sizes, A_filter_sizes, Ahat_filter_sizes, R_filter_sizes,\n",
    "                  output_mode = 'R' + str(i), data_format = data_format, return_sequences = True)\n",
    "        prednet.load_state_dict(checkpoint['state_dict'])\n",
    "        prednet.cuda() \n",
    "        models.append(prednet)\n",
    "        \n",
    "prednet = PredNet(stack_sizes, R_stack_sizes, A_filter_sizes, Ahat_filter_sizes, R_filter_sizes,\n",
    "                  output_mode = 'prediction', data_format = data_format, return_sequences = True)\n",
    "prednet.load_state_dict(checkpoint['state_dict'])\n",
    "prednet.cuda() \n",
    "models.append(prednet)\n",
    "    "
   ]
  },
  {
   "cell_type": "code",
   "execution_count": 9,
   "id": "3022adb8",
   "metadata": {},
   "outputs": [],
   "source": [
    "# frame data files\n",
    "train_file = os.path.join(DATA_DIR, 'X_train.hkl')\n",
    "train_sources = os.path.join(DATA_DIR, 'sources_train.hkl')\n",
    "val_file = os.path.join(DATA_DIR, 'X_val.hkl')\n",
    "val_sources = os.path.join(DATA_DIR, 'sources_val.hkl')\n",
    "\n",
    "\n",
    "output_mode = 'error'\n",
    "sequence_start_mode = 'all'\n",
    "N_seq = None\n",
    "dataLoader = ZcrDataLoader(val_file, val_sources, output_mode, sequence_start_mode, N_seq,args).dataLoader()"
   ]
  },
  {
   "cell_type": "code",
   "execution_count": 10,
   "id": "2c4b764b",
   "metadata": {},
   "outputs": [],
   "source": [
    "if prednet.data_format == 'channels_first':\n",
    "    input_shape = (args.batch_size, args.num_timeSteps, n_channels, img_height, img_width)\n",
    "else:\n",
    "    input_shape = (args.batch_size, args.num_timeSteps, img_height, img_width, n_channels)"
   ]
  },
  {
   "cell_type": "code",
   "execution_count": 18,
   "id": "0e5534a8",
   "metadata": {},
   "outputs": [
    {
     "name": "stderr",
     "output_type": "stream",
     "text": [
      "/data/vision/billf/scratch/annekh/miniconda3/envs/torch_0/lib/python3.7/site-packages/torch/nn/functional.py:1320: UserWarning: nn.functional.tanh is deprecated. Use torch.tanh instead.\n",
      "  warnings.warn(\"nn.functional.tanh is deprecated. Use torch.tanh instead.\")\n",
      "/data/vision/billf/scratch/annekh/miniconda3/envs/torch_0/lib/python3.7/site-packages/torch/nn/modules/upsampling.py:129: UserWarning: nn.Upsample is deprecated. Use nn.functional.interpolate instead.\n",
      "  warnings.warn(\"nn.{} is deprecated. Use nn.functional.interpolate instead.\".format(self.name))\n"
     ]
    },
    {
     "name": "stdout",
     "output_type": "stream",
     "text": [
      "R3 torch.Size([83, 10, 192, 16, 20]) tensor(0.0025, device='cuda:0')\n",
      "R2 torch.Size([83, 10, 96, 32, 40]) tensor(0.0549, device='cuda:0')\n",
      "R1 torch.Size([83, 10, 48, 64, 80]) tensor(0.0472, device='cuda:0')\n",
      "R0 torch.Size([83, 10, 3, 128, 160]) tensor(-0.1412, device='cuda:0')\n",
      "prediction torch.Size([83, 10, 3, 128, 160]) tensor(0.3698, device='cuda:0')\n"
     ]
    }
   ],
   "source": [
    "initial_states = prednet.get_initial_states(input_shape)\n",
    "states = initial_states\n",
    "names = ['pixel', 'R3', 'R2', 'R1', 'R0', 'prediction']\n",
    "values = {n:[] for n in names}\n",
    "with torch.no_grad():\n",
    "    for step, (frameGroup, target) in enumerate(dataLoader):\n",
    "        values[names[0]] = computeDistCurv_batch(frameGroup).mean(1)\n",
    "        batch_frames = Variable(frameGroup.cuda())\n",
    "        for i in range(5):\n",
    "            n = names[i+1]\n",
    "            output = models[i](batch_frames, states)\n",
    "            output_tensor = torch.stack(output,1) # list to tensor\n",
    "            print(n,output_tensor.shape,output_tensor.mean())\n",
    "            values[n] = computeDistCurv_batch(output_tensor).mean(1)\n",
    "            \n",
    "        if step >=0:\n",
    "            break\n",
    "    "
   ]
  },
  {
   "cell_type": "code",
   "execution_count": 14,
   "id": "301bb832",
   "metadata": {},
   "outputs": [
    {
     "data": {
      "text/plain": [
       "{'pixel': tensor([104.1477, 103.0170, 102.5428, 102.7672, 103.1696, 103.7455, 103.9888,\n",
       "         104.6991, 106.9093, 107.8699, 108.3637, 108.6012, 108.8465, 109.0729,\n",
       "         109.2446, 109.1416, 108.9056, 108.8958, 108.5775, 108.5113, 108.3439,\n",
       "         108.0676, 108.2034, 108.1656, 108.0984, 108.1423, 108.4416, 108.6811,\n",
       "         108.9517, 109.0656, 108.8719, 108.7183, 108.5649, 108.4071, 108.2299,\n",
       "         108.1047, 108.0703, 108.3450, 108.7571, 109.3317, 109.8441, 110.1005,\n",
       "         110.1182, 110.0551, 109.7780, 109.2024, 108.7113, 108.2793, 107.8773,\n",
       "         107.4469, 107.1505, 106.8143, 106.7434, 106.3505, 105.9761, 105.4491,\n",
       "         104.8794, 104.0989, 103.5708, 103.1362, 102.8252, 103.4251, 103.9517,\n",
       "         104.5152, 105.0492, 105.8903, 106.4838, 107.1136, 107.4261, 107.2227,\n",
       "         107.0133, 106.9181, 106.8970, 106.8910, 106.9722, 106.9012, 106.7570,\n",
       "         106.6141, 106.3768, 106.0383, 105.7497, 105.3974, 105.1127]),\n",
       " 'R3': tensor([21.2391, 21.2625, 21.2529, 21.2318, 21.2154, 21.2298, 21.2317, 21.2354,\n",
       "         21.2391, 21.2282, 21.2286, 21.2326, 21.2297, 21.2376, 21.2318, 21.2336,\n",
       "         21.2397, 21.2290, 21.2289, 21.2364, 21.2296, 21.2361, 21.2341, 21.2310,\n",
       "         21.2282, 21.2317, 21.2376, 21.2316, 21.2277, 21.2423, 21.2393, 21.2348,\n",
       "         21.2429, 21.2318, 21.2383, 21.2364, 21.2395, 21.2454, 21.2345, 21.2354,\n",
       "         21.2431, 21.2454, 21.2497, 21.2495, 21.2467, 21.2440, 21.2407, 21.2352,\n",
       "         21.2295, 21.2326, 21.2275, 21.2384, 21.2384, 21.2344, 21.2187, 21.2196,\n",
       "         21.2081, 21.2124, 21.2105, 21.2119, 21.2030, 21.2026, 21.2019, 21.2151,\n",
       "         21.2150, 21.2152, 21.2113, 21.2126, 21.2106, 21.2127, 21.2128, 21.2117,\n",
       "         21.2143, 21.2129, 21.2133, 21.2262, 21.2212, 21.2239, 21.2226, 21.2171,\n",
       "         21.2247, 21.2225, 21.2218], device='cuda:0'),\n",
       " 'R2': tensor([0.1460, 0.1468, 0.1479, 0.1472, 0.1492, 0.1494, 0.1482, 0.1456, 0.1474,\n",
       "         0.1469, 0.1459, 0.1471, 0.1465, 0.1450, 0.1486, 0.1471, 0.1477, 0.1472,\n",
       "         0.1475, 0.1490, 0.1477, 0.1481, 0.1472, 0.1471, 0.1464, 0.1483, 0.1465,\n",
       "         0.1474, 0.1478, 0.1482, 0.1492, 0.1470, 0.1479, 0.1479, 0.1485, 0.1473,\n",
       "         0.1494, 0.1485, 0.1492, 0.1499, 0.1496, 0.1501, 0.1500, 0.1516, 0.1505,\n",
       "         0.1509, 0.1503, 0.1498, 0.1510, 0.1498, 0.1497, 0.1483, 0.1495, 0.1497,\n",
       "         0.1493, 0.1478, 0.1490, 0.1464, 0.1452, 0.1453, 0.1463, 0.1459, 0.1453,\n",
       "         0.1464, 0.1453, 0.1454, 0.1469, 0.1466, 0.1463, 0.1460, 0.1456, 0.1451,\n",
       "         0.1448, 0.1456, 0.1467, 0.1454, 0.1459, 0.1464, 0.1463, 0.1466, 0.1459,\n",
       "         0.1453, 0.1467], device='cuda:0'),\n",
       " 'R1': tensor([45.7557, 44.5219, 45.6249, 45.5750, 44.4538, 43.9887, 43.8955, 43.3473,\n",
       "         42.4313, 42.3159, 43.4458, 44.3935, 45.0871, 45.7951, 46.2337, 47.3651,\n",
       "         47.6788, 47.9209, 47.5345, 49.1664, 49.8220, 49.4513, 49.4217, 48.8408,\n",
       "         48.7612, 48.8403, 49.0017, 48.8617, 49.7547, 51.9059, 53.4139, 54.5411,\n",
       "         55.3632, 56.7163, 58.2893, 60.1148, 61.6501, 63.9406, 66.3615, 68.5053,\n",
       "         70.3745, 72.0260, 73.2321, 73.4604, 72.8426, 72.5185, 72.0549, 71.5662,\n",
       "         71.3113, 72.1859, 72.9251, 73.1990, 72.1726, 71.2012, 69.0463, 65.7346,\n",
       "         62.6698, 59.4242, 56.0000, 51.6757, 47.8841, 44.9318, 42.1564, 41.1920,\n",
       "         41.2482, 42.5602, 44.2248, 45.9860, 47.8694, 50.0924, 51.7694, 52.7051,\n",
       "         53.2305, 54.3120, 54.9263, 55.6261, 56.2172, 57.0817, 57.4909, 57.4476,\n",
       "         56.9289, 56.1987, 55.4904], device='cuda:0'),\n",
       " 'R0': tensor([ 95.8280,  92.7135,  93.4663,  90.3783,  89.0511,  89.0626,  89.2352,\n",
       "          91.0550,  92.9678,  86.6373,  86.5158,  88.6079,  89.7490,  90.5753,\n",
       "          91.3716,  91.2893,  90.9961,  91.3648,  91.4570,  91.2103,  90.9795,\n",
       "          90.9152,  90.6482,  90.0110,  90.2215,  90.4830,  90.3817,  89.6376,\n",
       "          90.0860,  91.9432,  93.0910,  93.3185,  94.1312,  94.9392,  96.0533,\n",
       "          97.1589,  97.5980,  98.7459, 100.3215, 101.3823, 102.2991, 103.0507,\n",
       "         103.3472, 103.1765, 102.4978, 101.8407, 101.1008, 100.1450,  99.2172,\n",
       "          98.7373,  98.7256,  98.3963,  97.7531,  98.0238,  97.7121,  97.3359,\n",
       "          97.6220,  97.2742,  96.8423,  95.0662,  92.6867,  91.9683,  90.7355,\n",
       "          89.9780,  89.1284,  89.5927,  90.4720,  92.0610,  92.4799,  94.0378,\n",
       "          96.7873,  98.2467,  98.5512,  99.2176, 100.0198, 101.0199, 101.3856,\n",
       "         102.2563, 102.3181, 101.8552, 101.4782, 100.5702,  99.6766],\n",
       "        device='cuda:0'),\n",
       " 'prediction': tensor([ 94.5934,  91.2468,  92.6570,  89.1972,  87.4111,  87.2704,  87.3724,\n",
       "          89.2134,  91.3355,  84.2624,  84.0098,  86.1351,  87.2718,  88.2948,\n",
       "          89.1966,  89.0932,  88.6823,  89.2832,  89.3927,  89.3041,  89.0680,\n",
       "          88.8267,  88.6015,  87.8010,  87.9459,  88.1813,  88.0968,  87.0881,\n",
       "          87.5365,  89.5826,  90.8810,  91.2266,  92.2892,  93.3073,  94.6713,\n",
       "          96.0966,  96.7083,  98.0818, 100.0996, 101.4212, 102.6039, 103.5684,\n",
       "         104.0219, 103.8553, 103.0867, 102.2770, 101.3632, 100.2470,  99.1141,\n",
       "          98.5238,  98.5705,  98.4958,  97.9532,  98.3443,  98.0418,  97.5506,\n",
       "          97.6772,  97.1585,  96.7203,  94.4434,  91.6073,  90.6561,  89.0206,\n",
       "          88.0123,  86.7309,  87.1666,  88.0121,  90.0624,  90.5557,  92.1574,\n",
       "          95.5138,  97.4679,  97.8917,  98.6941,  99.5912, 100.7673, 101.1829,\n",
       "         102.1785, 102.2683, 101.7238, 101.3529, 100.4155,  99.5900],\n",
       "        device='cuda:0')}"
      ]
     },
     "execution_count": 14,
     "metadata": {},
     "output_type": "execute_result"
    }
   ],
   "source": [
    "values"
   ]
  },
  {
   "cell_type": "code",
   "execution_count": 15,
   "id": "625fb5e3",
   "metadata": {},
   "outputs": [
    {
     "data": {
      "text/plain": [
       "([0.0,\n",
       "  -85.80387878417969,\n",
       "  -106.88504967093468,\n",
       "  -52.294288635253906,\n",
       "  -11.945060729980469,\n",
       "  -13.069091796875],\n",
       " [107.0325927734375,\n",
       "  21.228713989257812,\n",
       "  0.14754310250282288,\n",
       "  54.738304138183594,\n",
       "  95.08753204345703,\n",
       "  93.9635009765625])"
      ]
     },
     "execution_count": 15,
     "metadata": {},
     "output_type": "execute_result"
    }
   ],
   "source": [
    "to_plot = [values[k].mean().item() for k in values.keys()]\n",
    "to_plot_change = [to_plot[i] - to_plot[0] for i in range(len(to_plot))]\n",
    "to_plot_change, to_plot\n",
    "\n",
    "# to_plot2 = [values[k].mean().item() for k in values.keys()]\n",
    "# to_plot_change2 = [to_plot2[i] - to_plot2[0] for i in range(len(to_plot2))]\n",
    "# to_plot_change2, to_plot2"
   ]
  },
  {
   "cell_type": "code",
   "execution_count": 17,
   "id": "be076f05",
   "metadata": {},
   "outputs": [
    {
     "data": {
      "image/png": "[encoded data removed]",
      "text/plain": [
       "<Figure size 288x288 with 1 Axes>"
      ]
     },
     "metadata": {
      "needs_background": "light"
     },
     "output_type": "display_data"
    }
   ],
   "source": [
    "name = 'Prednet'\n",
    "xlabels = ['pixel', 'R3', 'R2', 'R1', 'R0', 'prediction']\n",
    "plt.figure(figsize=(4,4))\n",
    "plt.plot(xlabels, to_plot_change2,'o', markersize=8,label='original')\n",
    "plt.plot(xlabels, to_plot_change,'o', markersize=8,label='R2 straightened')\n",
    "\n",
    "plt.title('Prednet Curvature')\n",
    "plt.legend(loc='upper left')\n",
    "plt.plot([xlabels[0], xlabels[-1]],[0,0], '--', color='gray')\n",
    "plt.ylim([-120, 120])\n",
    "plt.ylabel('Curvature change ($^\\circ$)')\n",
    "plt.tight_layout()\n",
    "plt.savefig('prednet_R2_straight_4_epochs_larger_new.png', dpi=300)"
   ]
  }
 ],
 "metadata": {
  "kernelspec": {
   "display_name": "Python 3 (ipykernel)",
   "language": "python",
   "name": "python3"
  },
  "language_info": {
   "codemirror_mode": {
    "name": "ipython",
    "version": 3
   },
   "file_extension": ".py",
   "mimetype": "text/x-python",
   "name": "python",
   "nbconvert_exporter": "python",
   "pygments_lexer": "ipython3",
   "version": "3.7.13"
  }
 },
 "nbformat": 4,
 "nbformat_minor": 5
}
