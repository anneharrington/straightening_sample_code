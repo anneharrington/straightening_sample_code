{
 "cells": [
  {
   "cell_type": "markdown",
   "metadata": {},
   "source": [
    "# Plot Curvature of a Variety of *Biologically Inspired* Models"
   ]
  },
  {
   "cell_type": "code",
   "execution_count": 1,
   "metadata": {},
   "outputs": [],
   "source": [
    "import torch\n",
    "import torch.nn as nn\n",
    "from PIL import Image\n",
    "import numpy as np\n",
    "import matplotlib.pyplot as plt\n",
    "from utils_henaff import *\n",
    "#import timm\n",
    "import torchvision\n",
    "import torchvision.models as models\n",
    "from torchvision import transforms\n",
    "import os\n",
    "import sys\n",
    "\n",
    "%load_ext autoreload\n",
    "from fast_curvature import *\n",
    "\n",
    "device = torch.device('cuda') if torch.cuda.is_available() else torch.device('cpu')\n",
    "\n",
    "# setting path\n",
    "sys.path.append('../../straightening_models_code/PooledStatisticsMetamers/')\n",
    "import utils_brucenet as ubn"
   ]
  },
  {
   "cell_type": "markdown",
   "metadata": {},
   "source": [
    "## Video"
   ]
  },
  {
   "cell_type": "code",
   "execution_count": 2,
   "metadata": {},
   "outputs": [
    {
     "name": "stdout",
     "output_type": "stream",
     "text": [
      "natural\n",
      "contrast\n"
     ]
    },
    {
     "name": "stderr",
     "output_type": "stream",
     "text": [
      "/data1/groups/RosenholtzLab/PredStraightening/Henaff_straightening/utilities.py:73: UserWarning: This overload of add_ is deprecated:\n",
      "\tadd_(Number alpha, Tensor other)\n",
      "Consider using one of the following signatures instead:\n",
      "\tadd_(Tensor other, *, Number alpha) (Triggered internally at  ../torch/csrc/utils/python_arg_parser.cpp:1055.)\n",
      "  x[i].copy_( imgA ).mul_( 1-t ).add_( t, imgB )\n"
     ]
    },
    {
     "name": "stdout",
     "output_type": "stream",
     "text": [
      "artificial\n"
     ]
    }
   ],
   "source": [
    "vid = load_all_henaff_videos_corrected(img_size=224,rgb=True,imagenet=False)\n",
    "videos = [vid['natural'].float().contiguous().to(device),\n",
    "          vid['contrast'].float().contiguous().to(device), \n",
    "          vid['artificial'].float().contiguous().to(device)]"
   ]
  },
  {
   "cell_type": "markdown",
   "metadata": {
    "tags": []
   },
   "source": [
    "## BruceNet Default 150 Stats"
   ]
  },
  {
   "cell_type": "code",
   "execution_count": 3,
   "metadata": {},
   "outputs": [
    {
     "name": "stdout",
     "output_type": "stream",
     "text": [
      "Creating solver: pyramid=UBBBBL_6 pooling=WholeImagePooling()\n"
     ]
    },
    {
     "name": "stderr",
     "output_type": "stream",
     "text": [
      "/state/partition1/llgrid/pkg/anaconda/anaconda3-2022a/lib/python3.8/site-packages/torch/functional.py:568: UserWarning: torch.meshgrid: in an upcoming release, it will be required to pass the indexing argument. (Triggered internally at  ../aten/src/ATen/native/TensorShape.cpp:2228.)\n",
      "  return _VF.meshgrid(tensors, **kwargs)  # type: ignore[attr-defined]\n"
     ]
    }
   ],
   "source": [
    "## BruceNet\n",
    "model_arch = 'brucenet_150'\n",
    "model = ubn.BruceNet(pooling_region_size=1e20,\n",
    "                     pyramid_params=None,pyramid_stats=None,\n",
    "                     dummy_img=torch.rand((1,1,224,224))).cuda(device)\n",
    "#model_blocks = [model.solver]\n",
    "model_blocks = []"
   ]
  },
  {
   "cell_type": "code",
   "execution_count": 4,
   "metadata": {},
   "outputs": [],
   "source": [
    "curvs_natural = get_intermediate_curv(model, model_blocks,videos[0])\n",
    "curvs_contrast = get_intermediate_curv(model, model_blocks,videos[1])\n",
    "curvs_artificial = get_intermediate_curv(model, model_blocks,videos[2])\n",
    "\n",
    "mean_natural = curvs_natural.mean(0)\n",
    "mean_contrast = curvs_contrast.mean(0)\n",
    "mean_artificial = curvs_artificial.mean(0)\n",
    "\n",
    "ste_natural = curvs_natural.std(0)/11**0.5\n",
    "ste_contrast = curvs_contrast.std(0)/11**0.5\n",
    "ste_artificial = curvs_artificial.std(0)/11**0.5"
   ]
  },
  {
   "cell_type": "code",
   "execution_count": 5,
   "metadata": {},
   "outputs": [
    {
     "data": {
      "image/png": "[encoded data removed]",
      "text/plain": [
       "<Figure size 432x288 with 1 Axes>"
      ]
     },
     "metadata": {
      "needs_background": "light"
     },
     "output_type": "display_data"
    }
   ],
   "source": [
    "natural_plot = mean_natural - mean_natural[0].repeat(mean_natural.size(0))\n",
    "contrast_plot = mean_contrast - mean_contrast[0].repeat(mean_contrast.size(0))\n",
    "artificial_plot = mean_artificial - mean_artificial[0].repeat(mean_artificial.size(0))\n",
    "\n",
    "xlabels = ['Pixel','Output']\n",
    "output_dir = './brucenet_curves'\n",
    "os.makedirs(output_dir,exist_ok=True)\n",
    "\n",
    "plt.figure(figsize=(6,4))\n",
    "plt.errorbar(xlabels, natural_plot, yerr=ste_natural, marker = 'o', linestyle='--',markersize=8,label='natural',uplims=True, lolims=True)\n",
    "plt.errorbar(xlabels, contrast_plot, yerr=ste_contrast, marker = 'o', linestyle='--',markersize=8,label='contrast',uplims=True, lolims=True)\n",
    "plt.errorbar(xlabels, artificial_plot, yerr=ste_artificial, marker = 'o', linestyle='--',markersize=8,label='artificial',uplims=True, lolims=True)\n",
    "\n",
    "plt.plot([xlabels[0], xlabels[-1]],[0,0], '-', color='gray')\n",
    "plt.ylim([-110, 110])\n",
    "plt.ylabel('Change in Mean Curvature($^\\circ$)')\n",
    "plt.text(xlabels[-2], -80,'lower curvature', color='gray',fontsize='small')\n",
    "plt.text(xlabels[-2], 80,'higher curvature', color='gray',fontsize='small')\n",
    "plt.legend(loc='lower left')\n",
    "# plt.title('Change in Curvature Across Alexnet Blocks (with PCA)', fontsize=12)\n",
    "plt.tight_layout()\n",
    "name = f'brucenet_{model_arch}'\n",
    "save_name = os.path.join(output_dir,f'{name}_curve_change.png')\n",
    "plt.savefig(save_name,dpi=300)\n",
    "\n",
    "all_curves = {'layer_names':xlabels,'natural_curves':mean_natural, 'contrast_curves':mean_contrast,'artificial_curves':mean_artificial,\n",
    "              'natural_ste':ste_natural, 'contrast_ste':ste_contrast,'artificial_ste':ste_artificial}\n",
    "write_model_csv(output_dir, name, all_curves)"
   ]
  },
  {
   "cell_type": "markdown",
   "metadata": {
    "tags": []
   },
   "source": [
    "## BruceNet P&S Stats"
   ]
  },
  {
   "cell_type": "code",
   "execution_count": 6,
   "metadata": {},
   "outputs": [
    {
     "data": {
      "text/plain": [
       "<module 'utils_brucenet' from '/data1/groups/RosenholtzLab/PredStraightening/Henaff_straightening/utils_brucenet.py'>"
      ]
     },
     "execution_count": 6,
     "metadata": {},
     "output_type": "execute_result"
    }
   ],
   "source": [
    "import imp\n",
    "imp.reload(ubn)"
   ]
  },
  {
   "cell_type": "code",
   "execution_count": 7,
   "metadata": {},
   "outputs": [
    {
     "name": "stdout",
     "output_type": "stream",
     "text": [
      "Creating solver: pyramid=UBBBBL_6:Bound=wrap pooling=WholeImagePooling()\n"
     ]
    }
   ],
   "source": [
    "## BruceNet\n",
    "model_arch = 'brucenet_PSPyr'\n",
    "PS_pyr = 'UBbbbL_6:Ori=4:RadK=cos:Bound=wrap' \n",
    "PS_stats = 'ps_all'\n",
    "model = ubn.BruceNet(pooling_region_size=1e20,\n",
    "                     pyramid_params = PS_pyr,\n",
    "                     pyramid_stats = PS_stats,\n",
    "                     dummy_img=torch.rand(1,1,224,224)).cuda(device)"
   ]
  },
  {
   "cell_type": "code",
   "execution_count": 8,
   "metadata": {},
   "outputs": [],
   "source": [
    "#model_blocks = [model.solver]\n",
    "model_blocks = []"
   ]
  },
  {
   "cell_type": "code",
   "execution_count": 9,
   "metadata": {},
   "outputs": [],
   "source": [
    "curvs_natural = get_intermediate_curv(model, model_blocks,videos[0])\n",
    "curvs_contrast = get_intermediate_curv(model, model_blocks,videos[1])\n",
    "curvs_artificial = get_intermediate_curv(model, model_blocks,videos[2])\n",
    "\n",
    "mean_natural = curvs_natural.mean(0)\n",
    "mean_contrast = curvs_contrast.mean(0)\n",
    "mean_artificial = curvs_artificial.mean(0)\n",
    "\n",
    "ste_natural = curvs_natural.std(0)/11**0.5\n",
    "ste_contrast = curvs_contrast.std(0)/11**0.5\n",
    "ste_artificial = curvs_artificial.std(0)/11**0.5"
   ]
  },
  {
   "cell_type": "code",
   "execution_count": 10,
   "metadata": {},
   "outputs": [
    {
     "data": {
      "image/png": "[encoded data removed]",
      "text/plain": [
       "<Figure size 432x288 with 1 Axes>"
      ]
     },
     "metadata": {
      "needs_background": "light"
     },
     "output_type": "display_data"
    }
   ],
   "source": [
    "natural_plot = mean_natural - mean_natural[0].repeat(mean_natural.size(0))\n",
    "contrast_plot = mean_contrast - mean_contrast[0].repeat(mean_contrast.size(0))\n",
    "artificial_plot = mean_artificial - mean_artificial[0].repeat(mean_artificial.size(0))\n",
    "\n",
    "xlabels = ['Pixel','Output']\n",
    "output_dir = './brucenet_curves'\n",
    "os.makedirs(output_dir,exist_ok=True)\n",
    "\n",
    "plt.figure(figsize=(6,4))\n",
    "plt.errorbar(xlabels, natural_plot, yerr=ste_natural, marker = 'o', linestyle='--',markersize=8,label='natural',uplims=True, lolims=True)\n",
    "plt.errorbar(xlabels, contrast_plot, yerr=ste_contrast, marker = 'o', linestyle='--',markersize=8,label='contrast',uplims=True, lolims=True)\n",
    "plt.errorbar(xlabels, artificial_plot, yerr=ste_artificial, marker = 'o', linestyle='--',markersize=8,label='artificial',uplims=True, lolims=True)\n",
    "\n",
    "plt.plot([xlabels[0], xlabels[-1]],[0,0], '-', color='gray')\n",
    "plt.ylim([-110, 110])\n",
    "plt.ylabel('Change in Mean Curvature($^\\circ$)')\n",
    "plt.text(xlabels[-2], -80,'lower curvature', color='gray',fontsize='small')\n",
    "plt.text(xlabels[-2], 80,'higher curvature', color='gray',fontsize='small')\n",
    "plt.legend(loc='lower left')\n",
    "# plt.title('Change in Curvature Across Alexnet Blocks (with PCA)', fontsize=12)\n",
    "plt.tight_layout()\n",
    "name = f'brucenet_{model_arch}'\n",
    "save_name = os.path.join(output_dir,f'{name}_curve_change.png')\n",
    "plt.savefig(save_name,dpi=300)\n",
    "\n",
    "all_curves = {'layer_names':xlabels,'natural_curves':mean_natural, 'contrast_curves':mean_contrast,'artificial_curves':mean_artificial,\n",
    "              'natural_ste':ste_natural, 'contrast_ste':ste_contrast,'artificial_ste':ste_artificial}\n",
    "write_model_csv(output_dir, name, all_curves)"
   ]
  },
  {
   "cell_type": "code",
   "execution_count": null,
   "metadata": {},
   "outputs": [],
   "source": []
  }
 ],
 "metadata": {
  "kernelspec": {
   "display_name": "Python 3 (ipykernel)",
   "language": "python",
   "name": "python3"
  },
  "language_info": {
   "codemirror_mode": {
    "name": "ipython",
    "version": 3
   },
   "file_extension": ".py",
   "mimetype": "text/x-python",
   "name": "python",
   "nbconvert_exporter": "python",
   "pygments_lexer": "ipython3",
   "version": "3.8.13"
  },
  "vscode": {
   "interpreter": {
    "hash": "e93a2586eba1526d4edc8244de4f57d2d62b0c3179e648c635dc34f1f71466f4"
   }
  }
 },
 "nbformat": 4,
 "nbformat_minor": 4
}
