{
 "cells": [
  {
   "cell_type": "markdown",
   "metadata": {},
   "source": [
    "# PredNet Straighteness"
   ]
  },
  {
   "cell_type": "code",
   "execution_count": 1,
   "metadata": {},
   "outputs": [
    {
     "name": "stderr",
     "output_type": "stream",
     "text": [
      "/data/vision/billf/scratch/annekh/miniconda3/envs/tf_19/lib/python3.6/site-packages/tensorflow/python/framework/dtypes.py:523: FutureWarning: Passing (type, 1) or '1type' as a synonym of type is deprecated; in a future version of numpy, it will be understood as (type, (1,)) / '(1,)type'.\n",
      "  _np_qint8 = np.dtype([(\"qint8\", np.int8, 1)])\n",
      "/data/vision/billf/scratch/annekh/miniconda3/envs/tf_19/lib/python3.6/site-packages/tensorflow/python/framework/dtypes.py:524: FutureWarning: Passing (type, 1) or '1type' as a synonym of type is deprecated; in a future version of numpy, it will be understood as (type, (1,)) / '(1,)type'.\n",
      "  _np_quint8 = np.dtype([(\"quint8\", np.uint8, 1)])\n",
      "/data/vision/billf/scratch/annekh/miniconda3/envs/tf_19/lib/python3.6/site-packages/tensorflow/python/framework/dtypes.py:525: FutureWarning: Passing (type, 1) or '1type' as a synonym of type is deprecated; in a future version of numpy, it will be understood as (type, (1,)) / '(1,)type'.\n",
      "  _np_qint16 = np.dtype([(\"qint16\", np.int16, 1)])\n",
      "/data/vision/billf/scratch/annekh/miniconda3/envs/tf_19/lib/python3.6/site-packages/tensorflow/python/framework/dtypes.py:526: FutureWarning: Passing (type, 1) or '1type' as a synonym of type is deprecated; in a future version of numpy, it will be understood as (type, (1,)) / '(1,)type'.\n",
      "  _np_quint16 = np.dtype([(\"quint16\", np.uint16, 1)])\n",
      "/data/vision/billf/scratch/annekh/miniconda3/envs/tf_19/lib/python3.6/site-packages/tensorflow/python/framework/dtypes.py:527: FutureWarning: Passing (type, 1) or '1type' as a synonym of type is deprecated; in a future version of numpy, it will be understood as (type, (1,)) / '(1,)type'.\n",
      "  _np_qint32 = np.dtype([(\"qint32\", np.int32, 1)])\n",
      "/data/vision/billf/scratch/annekh/miniconda3/envs/tf_19/lib/python3.6/site-packages/tensorflow/python/framework/dtypes.py:532: FutureWarning: Passing (type, 1) or '1type' as a synonym of type is deprecated; in a future version of numpy, it will be understood as (type, (1,)) / '(1,)type'.\n",
      "  np_resource = np.dtype([(\"resource\", np.ubyte, 1)])\n",
      "Using TensorFlow backend.\n"
     ]
    },
    {
     "name": "stdout",
     "output_type": "stream",
     "text": [
      "imports complete!\n"
     ]
    }
   ],
   "source": [
    "import torch\n",
    "import torch.nn as nn\n",
    "from PIL import Image\n",
    "import numpy as np\n",
    "import os\n",
    "from six.moves import cPickle\n",
    "import matplotlib\n",
    "# matplotlib.use('Agg')\n",
    "import matplotlib.pyplot as plt\n",
    "import matplotlib.gridspec as gridspec\n",
    "import tensorflow as tf\n",
    "from keras import backend as K\n",
    "from keras.models import Model, model_from_json\n",
    "from keras.layers import Input, Dense, Flatten\n",
    "\n",
    "from prednet import PredNet\n",
    "from prednet_kitti_utils import SequenceGenerator\n",
    "import math\n",
    "\n",
    "import sys\n",
    "# sys.path.insert(0, '../')\n",
    "sys.path.append('../Henaff_straightening')\n",
    "\n",
    "os.environ[\"CUDA_VISIBLE_DEVICES\"]=\"1\"\n",
    "\n",
    "from utils_henaff import *\n",
    "from fast_curvature import *\n",
    "from prednet_utils import *\n",
    "print('imports complete!')"
   ]
  },
  {
   "cell_type": "code",
   "execution_count": 2,
   "metadata": {},
   "outputs": [],
   "source": [
    "p = 4\n",
    "prednet_names = [\"pretrained_kitti_original\",\"pretrained_kitti_Lall\",\"pretrained_kitti_extrapfinetuned\", 'prednet_straight_0','prednet_straight_R3_1800']\n",
    "prednet_models = {prednet_names[0]:[\"./model_data_keras2/tensorflow_weights/prednet_kitti_weights.hdf5\",\"./model_data_keras2/prednet_kitti_model.json\"],\n",
    "                prednet_names[1]:[\"./model_data_keras2/tensorflow_weights/prednet_kitti_weights-Lall.hdf5\",\"./model_data_keras2/prednet_kitti_model.json\"],\n",
    "                prednet_names[2]:[\"./model_data_keras2/tensorflow_weights/prednet_kitti_weights-extrapfinetuned.hdf5\",\"./model_data_keras2/prednet_kitti_model-extrapfinetuned.json\"],\n",
    "                prednet_names[3]:['./prednet_weights/prednet_weights_lambda.hdf5','./prednet_weights/prednet_model_lambda.json'],\n",
    "                prednet_names[4]:['./prednet_weights/prednet_weights_R3_1800.hdf5','./prednet_weights/prednet_model_R3_1800.json']}"
   ]
  },
  {
   "cell_type": "code",
   "execution_count": 3,
   "metadata": {},
   "outputs": [],
   "source": [
    "model = load_prednet_weights(prednet_models[prednet_names[p]][0],\n",
    "                                  prednet_models[prednet_names[p]][1])\n",
    "layer_config = model.layers[1].get_config()\n",
    "data_format = layer_config['data_format']"
   ]
  },
  {
   "cell_type": "code",
   "execution_count": 4,
   "metadata": {},
   "outputs": [
    {
     "name": "stdout",
     "output_type": "stream",
     "text": [
      "Total params: 6,915,964\n",
      "Trainable params: 6,915,948\n",
      "Non-trainable params: 16\n"
     ]
    }
   ],
   "source": [
    "trainable_count = int(\n",
    "    np.sum([K.count_params(p) for p in set(model.trainable_weights)]))\n",
    "non_trainable_count = int(\n",
    "    np.sum([K.count_params(p) for p in set(model.non_trainable_weights)]))\n",
    "\n",
    "print('Total params: {:,}'.format(trainable_count + non_trainable_count))\n",
    "print('Trainable params: {:,}'.format(trainable_count))\n",
    "print('Non-trainable params: {:,}'.format(non_trainable_count))\n"
   ]
  },
  {
   "cell_type": "markdown",
   "metadata": {},
   "source": [
    "## KITTI Videos"
   ]
  },
  {
   "cell_type": "code",
   "execution_count": 4,
   "metadata": {},
   "outputs": [
    {
     "name": "stdout",
     "output_type": "stream",
     "text": [
      "R3\n",
      "R2\n",
      "R1\n",
      "R0\n",
      "prediction\n"
     ]
    }
   ],
   "source": [
    "model_blocks = get_prednet_blocks(model)"
   ]
  },
  {
   "cell_type": "code",
   "execution_count": 5,
   "metadata": {},
   "outputs": [],
   "source": [
    "X_test = load_kitti_test(test_path='../../prednet_coxlab/kitti_hkl_py3/X_test.hkl',\n",
    "                        test_sources='../../prednet_coxlab/kitti_hkl_py3/sources_test.hkl')"
   ]
  },
  {
   "cell_type": "code",
   "execution_count": 6,
   "metadata": {},
   "outputs": [
    {
     "name": "stdout",
     "output_type": "stream",
     "text": [
      "0\n",
      "torch.Size([83, 9, 16, 20, 192])\n",
      "1\n",
      "torch.Size([83, 9, 32, 40, 96])\n",
      "2\n",
      "torch.Size([83, 9, 64, 80, 48])\n",
      "3\n",
      "torch.Size([83, 9, 128, 160, 3])\n",
      "4\n",
      "torch.Size([83, 9, 128, 160, 3])\n"
     ]
    }
   ],
   "source": [
    "if data_format == 'channels_last':\n",
    "    kitti_outputs = get_prednet_outputs(X_test, model_blocks)\n",
    "else:\n",
    "    kitti_outputs = get_prednet_outputs(X_test.transpose((0,1,4,2,3)), model_blocks)\n"
   ]
  },
  {
   "cell_type": "code",
   "execution_count": 7,
   "metadata": {},
   "outputs": [],
   "source": [
    "curve_results = {'kitti_test':[None, None]}\n",
    "\n",
    "curve_results['kitti_test'][0], curve_results['kitti_test'][1] = collect_model_curves(kitti_outputs, \n",
    "                                           torch.from_numpy(X_test[:,:,:,:,:]), use_outputs=True)"
   ]
  },
  {
   "cell_type": "code",
   "execution_count": 8,
   "metadata": {},
   "outputs": [],
   "source": [
    "mean_curve = curve_results['kitti_test'][0].mean(0)\n",
    "\n",
    "ste_curve = curve_results['kitti_test'][0].std(0)/X_test.shape[0]**0.5\n",
    "\n",
    "curve_plot = mean_curve - mean_curve[0].repeat(mean_curve.size(0))"
   ]
  },
  {
   "cell_type": "code",
   "execution_count": 9,
   "metadata": {},
   "outputs": [
    {
     "name": "stdout",
     "output_type": "stream",
     "text": [
      "prednet_straight_R3_1800\n"
     ]
    },
    {
     "data": {
      "image/png": "[encoded data removed]",
      "text/plain": [
       "<Figure size 432x288 with 1 Axes>"
      ]
     },
     "metadata": {
      "needs_background": "light"
     },
     "output_type": "display_data"
    }
   ],
   "source": [
    "xlabels = ['Pixel', 'R3', 'R2','R1', 'R0', 'Final Output']\n",
    "all_curves = {'layer_names':xlabels,'natural_curves':mean_curve, 'contrast_curves':torch.ones_like(mean_curve)*float('NaN'),'artificial_curves':torch.ones_like(mean_curve)*float('NaN'),\n",
    "              'natural_ste':ste_curve, 'contrast_ste':torch.ones_like(ste_curve)*float('NaN'),'artificial_ste':torch.ones_like(ste_curve)*float('NaN')}\n",
    "output_dir = './prednet_kitti_curves'\n",
    "os.makedirs(output_dir,exist_ok=True)\n",
    "\n",
    "plt.figure(figsize=(6,4))\n",
    "plt.errorbar(xlabels, curve_plot, yerr=ste_curve, marker = 'o', linestyle='--',markersize=8,label='natural',uplims=True, lolims=True)\n",
    "\n",
    "plt.plot([xlabels[0], xlabels[-1]],[0,0], '-', color='gray')\n",
    "plt.ylim([-120, 120])\n",
    "plt.ylabel('Change in Mean Curvature($^\\circ$)')\n",
    "plt.text(xlabels[-3], -80,'lower curvature', color='gray',fontsize='small')\n",
    "plt.text(xlabels[-3], 80,'higher curvature', color='gray',fontsize='small')\n",
    "plt.legend(loc='upper left')\n",
    "plt.xticks(rotation=45)\n",
    "# plt.title('Change in Curvature Across Alexnet Blocks (with PCA)', fontsize=12)\n",
    "plt.tight_layout()\n",
    "name = prednet_names[p]\n",
    "save_name = os.path.join(output_dir,f'{name}_curve_change.png')\n",
    "print(name)\n",
    "plt.savefig(save_name,dpi=300)\n",
    "write_model_csv(output_dir, name, all_curves)"
   ]
  },
  {
   "cell_type": "markdown",
   "metadata": {},
   "source": [
    "## Henaff Videos"
   ]
  },
  {
   "cell_type": "code",
   "execution_count": 5,
   "metadata": {},
   "outputs": [
    {
     "name": "stdout",
     "output_type": "stream",
     "text": [
      "R3\n",
      "R2\n",
      "R1\n",
      "R0\n",
      "prediction\n"
     ]
    }
   ],
   "source": [
    "if data_format == 'channels_last':\n",
    "    model_blocks = get_prednet_blocks(model,time_steps=11,input_shape=(11,224,224,3))\n",
    "else:\n",
    "    model_blocks = get_prednet_blocks(model,time_steps=11,input_shape=(11,3,224,224))"
   ]
  },
  {
   "cell_type": "code",
   "execution_count": 6,
   "metadata": {},
   "outputs": [
    {
     "name": "stdout",
     "output_type": "stream",
     "text": [
      "natural\n",
      "contrast\n"
     ]
    },
    {
     "name": "stderr",
     "output_type": "stream",
     "text": [
      "../Henaff_straightening/utilities.py:73: UserWarning: This overload of add_ is deprecated:\n",
      "\tadd_(Number alpha, Tensor other)\n",
      "Consider using one of the following signatures instead:\n",
      "\tadd_(Tensor other, *, Number alpha) (Triggered internally at  /opt/conda/conda-bld/pytorch_1603729004493/work/torch/csrc/utils/python_arg_parser.cpp:882.)\n",
      "  x[i].copy_( imgA ).mul_( 1-t ).add_( t, imgB )\n"
     ]
    },
    {
     "name": "stdout",
     "output_type": "stream",
     "text": [
      "artificial\n",
      "torch.Size([12, 11, 224, 224, 3])\n"
     ]
    }
   ],
   "source": [
    "vid = load_all_henaff_videos_corrected(img_size=224,rgb=True,imagenet=False)\n",
    "if data_format == 'channels_last':\n",
    "    natural = vid['natural'].permute((0,1,3,4,2))\n",
    "    contrast = vid['contrast'].permute((0,1,3,4,2))\n",
    "    artificial = vid['artificial'].permute((0,1,3,4,2))\n",
    "    print(natural.shape)\n",
    "else:\n",
    "    natural = vid['natural']\n",
    "    contrast = vid['contrast']\n",
    "    artificial = vid['artificial']\n",
    "    print(natural.shape)\n",
    "\n",
    "videos = [natural.numpy(), contrast.numpy(), artificial.numpy()]\n",
    "all_videos = vid"
   ]
  },
  {
   "cell_type": "code",
   "execution_count": 7,
   "metadata": {},
   "outputs": [
    {
     "name": "stdout",
     "output_type": "stream",
     "text": [
      "0\n",
      "torch.Size([12, 10, 28, 28, 192])\n",
      "1\n",
      "torch.Size([12, 10, 56, 56, 96])\n",
      "2\n",
      "torch.Size([12, 10, 112, 112, 48])\n",
      "3\n",
      "torch.Size([12, 10, 224, 224, 3])\n",
      "4\n",
      "torch.Size([12, 10, 224, 224, 3])\n",
      "0\n",
      "torch.Size([10, 10, 28, 28, 192])\n",
      "1\n",
      "torch.Size([10, 10, 56, 56, 96])\n",
      "2\n",
      "torch.Size([10, 10, 112, 112, 48])\n",
      "3\n",
      "torch.Size([10, 10, 224, 224, 3])\n",
      "4\n",
      "torch.Size([10, 10, 224, 224, 3])\n",
      "0\n",
      "torch.Size([12, 10, 28, 28, 192])\n",
      "1\n",
      "torch.Size([12, 10, 56, 56, 96])\n",
      "2\n",
      "torch.Size([12, 10, 112, 112, 48])\n",
      "3\n",
      "torch.Size([12, 10, 224, 224, 3])\n",
      "4\n",
      "torch.Size([12, 10, 224, 224, 3])\n"
     ]
    }
   ],
   "source": [
    "natural_outputs = get_prednet_outputs(videos[0], model_blocks)\n",
    "contrast_outputs = get_prednet_outputs(videos[1], model_blocks)\n",
    "artificial_outputs = get_prednet_outputs(videos[2], model_blocks)"
   ]
  },
  {
   "cell_type": "code",
   "execution_count": 8,
   "metadata": {},
   "outputs": [],
   "source": [
    "curve_results = {}\n",
    "curve_results['Henaff_natural'] = [None, None]\n",
    "\n",
    "curve_results['Henaff_natural'][0], curve_results['Henaff_natural'][1] = collect_model_curves(natural_outputs, \n",
    "                                           torch.from_numpy(videos[0]), \n",
    "                                            use_outputs=True)\n",
    "\n",
    "curve_results['Henaff_contrast'] = [None, None]\n",
    "\n",
    "curve_results['Henaff_contrast'][0], curve_results['Henaff_contrast'][1] = collect_model_curves(contrast_outputs, \n",
    "                                           torch.from_numpy(videos[1]), \n",
    "                                            use_outputs=True)\n",
    "\n",
    "curve_results['Henaff_artificial'] = [None, None]\n",
    "\n",
    "curve_results['Henaff_artificial'][0], curve_results['Henaff_artificial'][1] = collect_model_curves(artificial_outputs, \n",
    "                                           torch.from_numpy(videos[2]), \n",
    "                                            use_outputs=True)"
   ]
  },
  {
   "cell_type": "code",
   "execution_count": 9,
   "metadata": {},
   "outputs": [
    {
     "name": "stdout",
     "output_type": "stream",
     "text": [
      "12\n"
     ]
    }
   ],
   "source": [
    "mean_natural = curve_results['Henaff_natural'][0].mean(0)\n",
    "mean_contrast = curve_results['Henaff_contrast'][0].mean(0)\n",
    "mean_artificial = curve_results['Henaff_artificial'][0].mean(0)\n",
    "\n",
    "# ste_natural = curve_results['Henaff_natural'][0].std(0)\n",
    "# ste_contrast = curve_results['Henaff_contrast'][0].std(0)\n",
    "# ste_artificial = curve_results['Henaff_artificial'][0].std(0)\n",
    "\n",
    "print(curve_results['Henaff_natural'][0].shape[0])\n",
    "\n",
    "ste_natural = curve_results['Henaff_natural'][0].std(0)/curve_results['Henaff_natural'][0].shape[0]**0.5\n",
    "ste_contrast = curve_results['Henaff_contrast'][0].std(0)/curve_results['Henaff_contrast'][0].shape[0]**0.5\n",
    "ste_artificial = curve_results['Henaff_artificial'][0].std(0)/curve_results['Henaff_artificial'][0].shape[0]**0.5\n",
    "\n",
    "natural_plot = mean_natural - mean_natural[0].repeat(mean_natural.size(0))\n",
    "contrast_plot = mean_contrast - mean_contrast[0].repeat(mean_contrast.size(0))\n",
    "artificial_plot = mean_artificial - mean_artificial[0].repeat(mean_artificial.size(0))"
   ]
  },
  {
   "cell_type": "code",
   "execution_count": 10,
   "metadata": {},
   "outputs": [
    {
     "name": "stdout",
     "output_type": "stream",
     "text": [
      "prednet_straight_R3_1800\n"
     ]
    },
    {
     "data": {
      "image/png": "[encoded data removed]",
      "text/plain": [
       "<Figure size 432x288 with 1 Axes>"
      ]
     },
     "metadata": {
      "needs_background": "light"
     },
     "output_type": "display_data"
    }
   ],
   "source": [
    "xlabels = ['Pixel', 'R3', 'R2','R1', 'R0', 'Final Output']\n",
    "all_curves = {'layer_names':xlabels,'natural_curves':mean_natural, 'contrast_curves':mean_contrast,'artificial_curves':mean_artificial,\n",
    "              'natural_ste':ste_natural, 'contrast_ste':ste_contrast,'artificial_ste':ste_artificial}\n",
    "output_dir = './prednet_curves'\n",
    "os.makedirs(output_dir,exist_ok=True)\n",
    "\n",
    "plt.figure(figsize=(6,4))\n",
    "plt.errorbar(xlabels, natural_plot, yerr=ste_natural, marker = 'o', linestyle='--',markersize=8,label='natural',uplims=True, lolims=True)\n",
    "plt.errorbar(xlabels, contrast_plot, yerr=ste_contrast, marker = 'o', linestyle='--',markersize=8,label='contrast',uplims=True, lolims=True)\n",
    "plt.errorbar(xlabels, artificial_plot, yerr=ste_artificial, marker = 'o', linestyle='--',markersize=8,label='artificial',uplims=True, lolims=True)\n",
    "\n",
    "plt.plot([xlabels[0], xlabels[-1]],[0,0], '-', color='gray')\n",
    "plt.ylim([-90, 90])\n",
    "plt.ylabel('Change in Mean Curvature($^\\circ$)')\n",
    "plt.text(xlabels[-3], -80,'lower curvature', color='gray',fontsize='small')\n",
    "plt.text(xlabels[-3], 80,'higher curvature', color='gray',fontsize='small')\n",
    "plt.legend(loc='upper left')\n",
    "plt.xticks(rotation=45)\n",
    "# plt.title('Change in Curvature Across Alexnet Blocks (with PCA)', fontsize=12)\n",
    "plt.tight_layout()\n",
    "name = prednet_names[p]\n",
    "save_name = os.path.join(output_dir,f'{name}_curve_change.png')\n",
    "print(name)\n",
    "plt.savefig(save_name,dpi=300)\n",
    "write_model_csv(output_dir, name, all_curves)"
   ]
  }
 ],
 "metadata": {
  "kernelspec": {
   "display_name": "Python 3.6.13 ('tf_19')",
   "language": "python",
   "name": "python3"
  },
  "language_info": {
   "codemirror_mode": {
    "name": "ipython",
    "version": 3
   },
   "file_extension": ".py",
   "mimetype": "text/x-python",
   "name": "python",
   "nbconvert_exporter": "python",
   "pygments_lexer": "ipython3",
   "version": "3.6.13"
  },
  "orig_nbformat": 4,
  "vscode": {
   "interpreter": {
    "hash": "ef857dc452fe868f6172b4798bd4ef82ac16df28eda42c3b114ff4b8049d9676"
   }
  }
 },
 "nbformat": 4,
 "nbformat_minor": 2
}
