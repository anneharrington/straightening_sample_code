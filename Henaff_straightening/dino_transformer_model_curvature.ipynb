{
 "cells": [
  {
   "cell_type": "markdown",
   "id": "d66c87a6-ea4c-454b-a7af-883674effddf",
   "metadata": {},
   "source": [
    "# Plot Curvature of DINO Models"
   ]
  },
  {
   "cell_type": "markdown",
   "id": "faa7014f-1c56-4e79-a706-0c56e4eb6e98",
   "metadata": {},
   "source": [
    "## DINO ViT 16"
   ]
  },
  {
   "cell_type": "code",
   "execution_count": 1,
   "id": "61893df2-9592-496a-9bee-925afbf8c772",
   "metadata": {},
   "outputs": [],
   "source": [
    "import torch\n",
    "import torch.nn as nn\n",
    "from PIL import Image\n",
    "import numpy as np\n",
    "import matplotlib.pyplot as plt\n",
    "from utils_henaff import *\n",
    "import timm\n",
    "import torchvision\n",
    "import torchvision.models as models\n",
    "from torchvision import transforms\n",
    "import os\n",
    "import sys\n",
    "from fast_curvature import *"
   ]
  },
  {
   "cell_type": "code",
   "execution_count": 2,
   "id": "c1d6ed41-14c3-4450-a125-ddd44b039823",
   "metadata": {},
   "outputs": [],
   "source": [
    "sys.path.append('../../straightening_models_code')\n",
    "sys.path.append('../../straightening_models_code/dino')\n",
    "from dino.vision_transformer import *"
   ]
  },
  {
   "cell_type": "code",
   "execution_count": 3,
   "id": "4fb1bc72-2383-46b0-88c3-1558a1dd43ba",
   "metadata": {},
   "outputs": [
    {
     "data": {
      "text/plain": [
       "<All keys matched successfully>"
      ]
     },
     "execution_count": 3,
     "metadata": {},
     "output_type": "execute_result"
    }
   ],
   "source": [
    "import dino.vision_transformer as vits\n",
    "v = 0\n",
    "dino_names = ['dino_vitb16']\n",
    "dino_models = {'dino_vitb16':['dino_vitbase16_pretrain.pth',16]}\n",
    "\n",
    "checkpoint = torch.load(os.path.join('../../straightening_models/dino/',dino_models[dino_names[v]][0]))\n",
    "model = vits.__dict__['vit_base'](patch_size=16)\n",
    "model.load_state_dict(checkpoint)"
   ]
  },
  {
   "cell_type": "code",
   "execution_count": 4,
   "id": "3e74431b-3113-46b3-8158-970232c19d76",
   "metadata": {},
   "outputs": [
    {
     "data": {
      "text/plain": [
       "'done!'"
      ]
     },
     "execution_count": 4,
     "metadata": {},
     "output_type": "execute_result"
    }
   ],
   "source": [
    "device = torch.device('cuda') if torch.cuda.is_available() else torch.device('cpu')\n",
    "model = nn.DataParallel(model)\n",
    "model = model.to(device)\n",
    "model.eval()\n",
    "'done!'"
   ]
  },
  {
   "cell_type": "code",
   "execution_count": 5,
   "id": "417b7d17-4728-4f7a-8a30-be0884b4e17d",
   "metadata": {},
   "outputs": [
    {
     "name": "stdout",
     "output_type": "stream",
     "text": [
      "Total params:  85798656\n"
     ]
    }
   ],
   "source": [
    "pytorch_total_params = sum(p.numel() for p in model.parameters() if p.requires_grad)\n",
    "print('Total params: ', pytorch_total_params)"
   ]
  },
  {
   "cell_type": "code",
   "execution_count": 6,
   "id": "86037f27-3272-4cac-97d6-36345dfdd7ed",
   "metadata": {},
   "outputs": [],
   "source": [
    "\n",
    "model_blocks = [model.module.patch_embed,\n",
    "                model.module.pos_drop,\n",
    "            model.module.blocks[0],\n",
    "            model.module.blocks[1],\n",
    "                model.module.blocks[2],\n",
    "                model.module.blocks[3],\n",
    "                model.module.blocks[4],\n",
    "                model.module.blocks[5],\n",
    "                model.module.blocks[6],\n",
    "               model.module.blocks[7],\n",
    "               model.module.blocks[8],\n",
    "               model.module.blocks[9],\n",
    "               model.module.blocks[10],\n",
    "               model.module.blocks[11],\n",
    "                model.module.norm\n",
    "               ]\n"
   ]
  },
  {
   "cell_type": "code",
   "execution_count": 7,
   "id": "8c9aed1b-83a1-4c99-892c-a581bfbf0a7f",
   "metadata": {},
   "outputs": [
    {
     "name": "stdout",
     "output_type": "stream",
     "text": [
      "natural\n",
      "contrast\n"
     ]
    },
    {
     "name": "stderr",
     "output_type": "stream",
     "text": [
      "/data1/groups/RosenholtzLab/PredStraightening/Henaff_straightening/utilities.py:44: UserWarning: This overload of add_ is deprecated:\n",
      "\tadd_(Number alpha, Tensor other)\n",
      "Consider using one of the following signatures instead:\n",
      "\tadd_(Tensor other, *, Number alpha) (Triggered internally at  ../torch/csrc/utils/python_arg_parser.cpp:1055.)\n",
      "  x[i].copy_( imgA ).mul_( 1-t ).add_( t, imgB )\n"
     ]
    },
    {
     "name": "stdout",
     "output_type": "stream",
     "text": [
      "artificial\n"
     ]
    }
   ],
   "source": [
    "vid = load_all_henaff_videos_corrected(img_size=224,rgb=True)\n",
    "videos = [vid['natural'].permute((0,1,4,2,3)).float().contiguous().to(device),\n",
    "          vid['contrast'].permute((0,1,4,2,3)).float().contiguous().to(device), \n",
    "          vid['artificial'].permute((0,1,4,2,3)).float().contiguous().to(device)]"
   ]
  },
  {
   "cell_type": "code",
   "execution_count": 8,
   "id": "8164fa06-3aa8-486a-8f70-872bb2919a03",
   "metadata": {},
   "outputs": [],
   "source": [
    "path = None\n",
    "curvs_natural = get_intermediate_curv(model, model_blocks,videos[0],vit=True,path=path,)\n",
    "curvs_contrast = get_intermediate_curv(model, model_blocks,videos[1],vit=True,path=path)\n",
    "curvs_artificial = get_intermediate_curv(model, model_blocks,videos[2],vit=True,path=path)"
   ]
  },
  {
   "cell_type": "code",
   "execution_count": 9,
   "id": "ace1e03a-447b-4287-90a8-e88ada38d500",
   "metadata": {},
   "outputs": [],
   "source": [
    "mean_natural = curvs_natural.mean(0)\n",
    "mean_contrast = curvs_contrast.mean(0)\n",
    "mean_artificial = curvs_artificial.mean(0)\n",
    "\n",
    "ste_natural = curvs_natural.std(0)/curvs_natural.size(0)**0.5\n",
    "ste_contrast = curvs_contrast.std(0)/curvs_contrast.size(0)**0.5\n",
    "ste_artificial = curvs_artificial.std(0)/curvs_artificial.size(0)**0.5"
   ]
  },
  {
   "cell_type": "code",
   "execution_count": 10,
   "id": "2e66c1d5-1d5f-477c-81ca-6e61d46ec818",
   "metadata": {},
   "outputs": [],
   "source": [
    "natural_plot = mean_natural - mean_natural[0].repeat(mean_natural.size(0))\n",
    "contrast_plot = mean_contrast - mean_contrast[0].repeat(mean_contrast.size(0))\n",
    "artificial_plot = mean_artificial - mean_artificial[0].repeat(mean_artificial.size(0))"
   ]
  },
  {
   "cell_type": "code",
   "execution_count": 11,
   "id": "520f7faf-4d66-4297-9ac7-9854eca7d780",
   "metadata": {},
   "outputs": [
    {
     "name": "stdout",
     "output_type": "stream",
     "text": [
      "dino_vitb16\n"
     ]
    },
    {
     "data": {
      "image/png": "[encoded data removed]",
      "text/plain": [
       "<Figure size 720x288 with 1 Axes>"
      ]
     },
     "metadata": {
      "needs_background": "light"
     },
     "output_type": "display_data"
    }
   ],
   "source": [
    "xlabels = ['Pixel', 'PatchEmbed','Dropout', 'Block0','Block1', 'Block2', 'Block3','Block4','Block5','Block6','Block7','Block8','Block9','Block10','Block11','Norm','Final Output']\n",
    "all_curves = {'layer_names':xlabels,'natural_curves':mean_natural, 'contrast_curves':mean_contrast,'artificial_curves':mean_artificial,\n",
    "              'natural_ste':ste_natural, 'contrast_ste':ste_contrast,'artificial_ste':ste_artificial}\n",
    "output_dir = './dino_curves'\n",
    "os.makedirs(output_dir,exist_ok=True)\n",
    "\n",
    "plt.figure(figsize=(10,4))\n",
    "plt.errorbar(xlabels, natural_plot, yerr=ste_natural, marker = 'o', linestyle='--',markersize=8,label='natural',uplims=True, lolims=True)\n",
    "plt.errorbar(xlabels, contrast_plot, yerr=ste_contrast, marker = 'o', linestyle='--',markersize=8,label='contrast',uplims=True, lolims=True)\n",
    "plt.errorbar(xlabels, artificial_plot, yerr=ste_artificial, marker = 'o', linestyle='--',markersize=8,label='artificial',uplims=True, lolims=True)\n",
    "\n",
    "plt.plot([xlabels[0], xlabels[-1]],[0,0], '-', color='gray')\n",
    "plt.ylim([-90, 90])\n",
    "plt.ylabel('Change in Mean Curvature($^\\circ$)')\n",
    "plt.text(xlabels[-3], -80,'lower curvature', color='gray',fontsize='small')\n",
    "plt.text(xlabels[-3], 80,'higher curvature', color='gray',fontsize='small')\n",
    "plt.legend(loc='lower left')\n",
    "plt.xticks(rotation=45)\n",
    "# plt.title('Change in Curvature Across Alexnet Blocks (with PCA)', fontsize=12)\n",
    "plt.tight_layout()\n",
    "# name = 'resnet50_robust_l2_3_0'\n",
    "name = dino_names[v]\n",
    "save_name = os.path.join(output_dir,f'{name}_curve_change.png')\n",
    "print(name)\n",
    "plt.savefig(save_name,dpi=300)\n",
    "write_model_csv(output_dir, name, all_curves)"
   ]
  },
  {
   "cell_type": "markdown",
   "id": "19baef54-009a-4389-a9e0-7b3acbe05ee4",
   "metadata": {},
   "source": [
    "## DINO Resnet50"
   ]
  },
  {
   "cell_type": "code",
   "execution_count": 12,
   "id": "8e1e502f-194f-44fb-a359-9255029426ee",
   "metadata": {},
   "outputs": [],
   "source": [
    "v = 0\n",
    "dino_names = ['dino_resnet50']\n",
    "dino_models = {'dino_resnet50':['dino_resnet50_pretrain.pth']}\n",
    "name = 'resnet50'\n",
    "model = models.__dict__[name](pretrained=False)\n",
    "checkpoint = torch.load(os.path.join('../../straightening_models/dino/',dino_models[dino_names[v]][0]))\n",
    "model.load_state_dict(checkpoint,strict=False)\n",
    "model.fc = torch.nn.Identity() # remove the fc layer"
   ]
  },
  {
   "cell_type": "code",
   "execution_count": 13,
   "id": "6569622a-4e1c-4681-b305-cee9a1e4476d",
   "metadata": {},
   "outputs": [
    {
     "data": {
      "text/plain": [
       "'done!'"
      ]
     },
     "execution_count": 13,
     "metadata": {},
     "output_type": "execute_result"
    }
   ],
   "source": [
    "device = torch.device('cuda') if torch.cuda.is_available() else torch.device('cpu')\n",
    "model = nn.DataParallel(model)\n",
    "model = model.to(device)\n",
    "model.eval()\n",
    "'done!'"
   ]
  },
  {
   "cell_type": "code",
   "execution_count": 14,
   "id": "ea16cc5f-6ed7-41ba-8190-d8a59ef75e8f",
   "metadata": {},
   "outputs": [],
   "source": [
    "model_blocks = [model.module.conv1,\n",
    "                model.module.layer1,\n",
    "                model.module.layer2,\n",
    "                model.module.layer3,\n",
    "                model.module.layer4,\n",
    "                model.module.avgpool]"
   ]
  },
  {
   "cell_type": "code",
   "execution_count": 15,
   "id": "d77e49f1-fd07-4abb-b0b3-fc85b8a3d5b6",
   "metadata": {},
   "outputs": [
    {
     "name": "stdout",
     "output_type": "stream",
     "text": [
      "natural\n",
      "contrast\n",
      "artificial\n"
     ]
    }
   ],
   "source": [
    "vid = load_all_henaff_videos_corrected(img_size=224,rgb=True)\n",
    "# natural = torch.from_numpy(vid['natural'],).permute((0,1,4,3,2)).float().contiguous()\n",
    "# contrast = torch.from_numpy(vid['contrast']).permute((0,1,4,3,2)).float().contiguous()\n",
    "# artificial = torch.from_numpy(vid['artificial']).permute((0,1,4,3,2)).float().contiguous()\n",
    "videos = [vid['natural'].permute((0,1,4,2,3)).float().contiguous().to(device),\n",
    "          vid['contrast'].permute((0,1,4,2,3)).float().contiguous().to(device), \n",
    "          vid['artificial'].permute((0,1,4,2,3)).float().contiguous().to(device)]"
   ]
  },
  {
   "cell_type": "code",
   "execution_count": 16,
   "id": "da3bbc4c-8272-4d5d-972c-097a64b4a2bd",
   "metadata": {},
   "outputs": [],
   "source": [
    "path = None\n",
    "curvs_natural = get_intermediate_curv(model, model_blocks,videos[0],vit=True,path=path,)\n",
    "curvs_contrast = get_intermediate_curv(model, model_blocks,videos[1],vit=True,path=path)\n",
    "curvs_artificial = get_intermediate_curv(model, model_blocks,videos[2],vit=True,path=path)"
   ]
  },
  {
   "cell_type": "code",
   "execution_count": 17,
   "id": "11266e07-b503-41d6-9c8b-77545e13b293",
   "metadata": {},
   "outputs": [],
   "source": [
    "mean_natural = curvs_natural.mean(0)\n",
    "mean_contrast = curvs_contrast.mean(0)\n",
    "mean_artificial = curvs_artificial.mean(0)\n",
    "\n",
    "ste_natural = curvs_natural.std(0)/curvs_natural.size(0)**0.5\n",
    "ste_contrast = curvs_contrast.std(0)/curvs_contrast.size(0)**0.5\n",
    "ste_artificial = curvs_artificial.std(0)/curvs_artificial.size(0)**0.5"
   ]
  },
  {
   "cell_type": "code",
   "execution_count": 18,
   "id": "1a7aa965-8436-419d-9602-6ed90a89660f",
   "metadata": {},
   "outputs": [],
   "source": [
    "natural_plot = mean_natural - mean_natural[0].repeat(mean_natural.size(0))\n",
    "contrast_plot = mean_contrast - mean_contrast[0].repeat(mean_contrast.size(0))\n",
    "artificial_plot = mean_artificial - mean_artificial[0].repeat(mean_artificial.size(0))"
   ]
  },
  {
   "cell_type": "code",
   "execution_count": 19,
   "id": "288da75d-105f-4964-8eb8-0c7758736f81",
   "metadata": {},
   "outputs": [
    {
     "name": "stdout",
     "output_type": "stream",
     "text": [
      "dino_resnet50\n"
     ]
    },
    {
     "data": {
      "image/png": "[encoded data removed]",
      "text/plain": [
       "<Figure size 720x288 with 1 Axes>"
      ]
     },
     "metadata": {
      "needs_background": "light"
     },
     "output_type": "display_data"
    }
   ],
   "source": [
    "xlabels = ['Pixel', 'Conv1','Layer1', 'Layer2','Layer3', 'Layer4', 'Avgpool','Final Output']\n",
    "all_curves = {'layer_names':xlabels,'natural_curves':mean_natural, 'contrast_curves':mean_contrast,'artificial_curves':mean_artificial,\n",
    "              'natural_ste':ste_natural, 'contrast_ste':ste_contrast,'artificial_ste':ste_artificial}\n",
    "output_dir = './dino_curves'\n",
    "os.makedirs(output_dir,exist_ok=True)\n",
    "\n",
    "plt.figure(figsize=(10,4))\n",
    "plt.errorbar(xlabels, natural_plot, yerr=ste_natural, marker = 'o', linestyle='--',markersize=8,label='natural',uplims=True, lolims=True)\n",
    "plt.errorbar(xlabels, contrast_plot, yerr=ste_contrast, marker = 'o', linestyle='--',markersize=8,label='contrast',uplims=True, lolims=True)\n",
    "plt.errorbar(xlabels, artificial_plot, yerr=ste_artificial, marker = 'o', linestyle='--',markersize=8,label='artificial',uplims=True, lolims=True)\n",
    "\n",
    "plt.plot([xlabels[0], xlabels[-1]],[0,0], '-', color='gray')\n",
    "plt.ylim([-90, 90])\n",
    "plt.ylabel('Change in Mean Curvature($^\\circ$)')\n",
    "plt.text(xlabels[-3], -80,'lower curvature', color='gray',fontsize='small')\n",
    "plt.text(xlabels[-3], 80,'higher curvature', color='gray',fontsize='small')\n",
    "plt.legend(loc='lower left')\n",
    "plt.xticks(rotation=45)\n",
    "# plt.title('Change in Curvature Across Alexnet Blocks (with PCA)', fontsize=12)\n",
    "plt.tight_layout()\n",
    "# name = 'resnet50_robust_l2_3_0'\n",
    "name = dino_names[v]\n",
    "save_name = os.path.join(output_dir,f'{name}_curve_change.png')\n",
    "print(name)\n",
    "plt.savefig(save_name,dpi=300)\n",
    "write_model_csv(output_dir, name, all_curves)"
   ]
  }
 ],
 "metadata": {
  "kernelspec": {
   "display_name": "Python 3 (ipykernel)",
   "language": "python",
   "name": "python3"
  },
  "language_info": {
   "codemirror_mode": {
    "name": "ipython",
    "version": 3
   },
   "file_extension": ".py",
   "mimetype": "text/x-python",
   "name": "python",
   "nbconvert_exporter": "python",
   "pygments_lexer": "ipython3",
   "version": "3.8.13"
  }
 },
 "nbformat": 4,
 "nbformat_minor": 5
}
